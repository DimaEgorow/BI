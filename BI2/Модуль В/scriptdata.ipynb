{
 "cells": [
  {
   "cell_type": "markdown",
   "metadata": {},
   "source": [
    "# Предобработка данных"
   ]
  },
  {
   "cell_type": "markdown",
   "metadata": {},
   "source": [
    "Приведение слов к нижнему регистру"
   ]
  },
  {
   "cell_type": "code",
   "execution_count": 2,
   "metadata": {},
   "outputs": [
    {
     "name": "stderr",
     "output_type": "stream",
     "text": [
      "C:\\Users\\User\\AppData\\Local\\Temp\\ipykernel_13820\\385421556.py:7: FutureWarning: DataFrame.applymap has been deprecated. Use DataFrame.map instead.\n",
      "  df = df.applymap(lambda x: x.lower() if isinstance(x, str) else x)\n"
     ]
    }
   ],
   "source": [
    "import pandas as pd\n",
    "\n",
    "# Загрузка данных из XLSX файла\n",
    "df = pd.read_excel('test.xlsx')\n",
    "\n",
    "# Приведение всего текста в таблице к нижнему регистру\n",
    "df = df.applymap(lambda x: x.lower() if isinstance(x, str) else x)\n",
    "\n",
    "# Сохраняем изменения в новый XLSX файл\n",
    "df.to_excel('finish_test.xlsx', index=False)"
   ]
  },
  {
   "cell_type": "markdown",
   "metadata": {},
   "source": [
    "Удаление знаков препинания, которые встречаются в таблице"
   ]
  },
  {
   "cell_type": "code",
   "execution_count": 7,
   "metadata": {},
   "outputs": [],
   "source": [
    "import pandas as pd\n",
    "\n",
    "# Загружаем данные из файла xlsx\n",
    "df = pd.read_excel('finish_test.xlsx')\n",
    "\n",
    "# Функция для удаления точек и точек с запятыми из строки\n",
    "def remove_dot_and_semicolon(text):\n",
    "    return text.replace('.', '').replace(';', '')\n",
    "\n",
    "# Применяем функцию к каждой ячейке в столбцах таблицы\n",
    "for column in df.columns:\n",
    "    df[column] = df[column].apply(lambda x: remove_dot_and_semicolon(str(x)))\n",
    "\n",
    "# Сохраняем обновленные данные обратно в файл xlsx\n",
    "df.to_excel('replace_finish_test.xlsx', index=False)\n"
   ]
  },
  {
   "cell_type": "markdown",
   "metadata": {},
   "source": [
    "# Определние наиболее и наименее востребованных навыков"
   ]
  },
  {
   "cell_type": "code",
   "execution_count": 1,
   "metadata": {},
   "outputs": [
    {
     "name": "stderr",
     "output_type": "stream",
     "text": [
      "C:\\Users\\User\\AppData\\Local\\Temp\\ipykernel_9920\\3447087003.py:1: DeprecationWarning: \n",
      "Pyarrow will become a required dependency of pandas in the next major release of pandas (pandas 3.0),\n",
      "(to allow more performant data types, such as the Arrow string type, and better interoperability with other libraries)\n",
      "but was not found to be installed on your system.\n",
      "If this would cause problems for you,\n",
      "please provide us feedback at https://github.com/pandas-dev/pandas/issues/54466\n",
      "        \n",
      "  import pandas as pd\n"
     ]
    },
    {
     "name": "stdout",
     "output_type": "stream",
     "text": [
      "Слово \"python\" встречается 4 раз(а) в тексте.\n",
      "Слово \"sql\" встречается 5 раз(а) в тексте.\n",
      "Слово \"power\" встречается 12 раз(а) в тексте.\n",
      "Слово \"образование\" встречается 5 раз(а) в тексте.\n",
      "Слово \"1с\" встречается 2 раз(а) в тексте.\n"
     ]
    }
   ],
   "source": [
    "import pandas as pd\n",
    "\n",
    "# Загрузка данных из файла Excel\n",
    "df = pd.read_excel('replace_finish_test.xlsx')\n",
    "\n",
    "# Объединение всех текстовых данных в одну строку\n",
    "text = ' '.join(df['Навыки'].astype(str))\n",
    "\n",
    "# Разделение текста на слова и подсчет частоты каждого слова\n",
    "word_counts = {}\n",
    "for word in text.split():\n",
    "    word = word.lower()  # Преобразование слова в нижний регистр\n",
    "    if word in word_counts:\n",
    "        word_counts[word] += 1\n",
    "    else:\n",
    "        word_counts[word] = 1\n",
    "\n",
    "# Подсчет частоты встречаемости ключевых навыков\n",
    "word_to_count_python = 'python'\n",
    "count_of_word_python = word_counts.get(word_to_count_python, 0)\n",
    "\n",
    "\n",
    "word_to_count_sql = 'sql'\n",
    "count_of_word_sql = word_counts.get(word_to_count_sql, 0)\n",
    "\n",
    "word_to_count_power = 'power'\n",
    "count_of_word_power = word_counts.get(word_to_count_power, 0)\n",
    "\n",
    "word_to_count_tech = 'образование'\n",
    "count_of_word_tech = word_counts.get(word_to_count_tech, 0)\n",
    "\n",
    "word_to_count_1с = '1с'\n",
    "count_of_word_1с = word_counts.get(word_to_count_1с, 0)\n",
    "\n",
    "print(f'Слово \"{word_to_count_python}\" встречается {count_of_word_python} раз(а) в тексте.')\n",
    "\n",
    "print(f'Слово \"{word_to_count_sql}\" встречается {count_of_word_sql} раз(а) в тексте.')\n",
    "\n",
    "print(f'Слово \"{word_to_count_power}\" встречается {count_of_word_power} раз(а) в тексте.')\n",
    "\n",
    "print(f'Слово \"{word_to_count_tech}\" встречается {count_of_word_tech} раз(а) в тексте.')\n",
    "\n",
    "print(f'Слово \"{word_to_count_1с}\" встречается {count_of_word_1с} раз(а) в тексте.')"
   ]
  },
  {
   "cell_type": "markdown",
   "metadata": {},
   "source": [
    "Остальные навыки я не стал рассматривать т.к. они встречаются в вакансиях редко"
   ]
  },
  {
   "cell_type": "markdown",
   "metadata": {},
   "source": [
    "# Наиболее востребованные навыки\n",
    "1. Power BI\n",
    "2. Python и SQL"
   ]
  },
  {
   "cell_type": "markdown",
   "metadata": {},
   "source": [
    "# Наименее востребованные навыки\n",
    "1. Образование\n",
    "2. 1С\n",
    "3. Опыт работы"
   ]
  },
  {
   "cell_type": "markdown",
   "metadata": {},
   "source": [
    "# Очистка от не нужных слов"
   ]
  },
  {
   "cell_type": "code",
   "execution_count": 37,
   "metadata": {},
   "outputs": [
    {
     "name": "stdout",
     "output_type": "stream",
     "text": [
      "Контент, кроме определенных слов, успешно удален.\n"
     ]
    }
   ],
   "source": [
    "from openpyxl import load_workbook\n",
    "import re\n",
    "\n",
    "# Указываем путь к файлу Excel\n",
    "file_path = 'finishdata copy.xlsx'\n",
    "\n",
    "# Задаем список слов, которые нужно оставить\n",
    "words_to_keep = ['sql', 'python', 'sas']\n",
    "\n",
    "# Загружаем файл Excel\n",
    "wb = load_workbook(file_path)\n",
    "ws = wb.active\n",
    "\n",
    "# Проходим по всем ячейкам и оставляем только нужные слова\n",
    "for row in ws.iter_rows():\n",
    "    for cell in row:\n",
    "        if cell.value:\n",
    "            cleaned_text = ' '.join([word for word in re.findall(r'\\b\\w+\\b', str(cell.value)) if word.lower() in words_to_keep])\n",
    "            cell.value = cleaned_text\n",
    "\n",
    "# Сохраняем изменения в файле\n",
    "wb.save(file_path)\n",
    "\n",
    "print(\"Контент, кроме определенных слов, успешно удален.\")\n"
   ]
  }
 ],
 "metadata": {
  "kernelspec": {
   "display_name": "Python 3",
   "language": "python",
   "name": "python3"
  },
  "language_info": {
   "codemirror_mode": {
    "name": "ipython",
    "version": 3
   },
   "file_extension": ".py",
   "mimetype": "text/x-python",
   "name": "python",
   "nbconvert_exporter": "python",
   "pygments_lexer": "ipython3",
   "version": "3.12.0"
  }
 },
 "nbformat": 4,
 "nbformat_minor": 2
}
