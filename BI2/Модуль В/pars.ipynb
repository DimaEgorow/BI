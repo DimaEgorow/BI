{
 "cells": [
  {
   "cell_type": "markdown",
   "metadata": {},
   "source": [
    "# Парсинг сайта superjob.ru"
   ]
  },
  {
   "cell_type": "code",
   "execution_count": 12,
   "metadata": {},
   "outputs": [
    {
     "name": "stdout",
     "output_type": "stream",
     "text": [
      "Данные успешно сохранены в файл 'test.xlsx'\n"
     ]
    }
   ],
   "source": [
    "from bs4 import BeautifulSoup\n",
    "import requests\n",
    "import pandas as pd\n",
    "from time import sleep\n",
    "\n",
    "headers = {\n",
    "    \"User-Agent\": \"Mozilla/5.0 (Windows NT 10.0; Win64; x64) AppleWebKit/537.36 (KHTML, like Gecko) Chrome/122.0.0.0 Safari/537.36 Edg/122.0.0.0\"\n",
    "}\n",
    "\n",
    "def get_url():\n",
    "    url = \"https://russia.superjob.ru/vakansii/analitik-bi.html?utm_source=yandex_sj&utm_medium=cpc&utm_campaign=SJ_candidate_do_RF|type3&utm_content=1233052|%D0%92%D0%B0%D0%BA%D0%B0%D0%BD%D1%81%D0%B8%D0%B8|4|%D0%A1%D1%82%D1%83%D0%BF%D0%B8%D0%BD%D0%BE&utm_term=none&yclid=5541557058299494399\"\n",
    "    response = requests.get(url, headers=headers)\n",
    "    soup = BeautifulSoup(response.text, \"lxml\")\n",
    "    data = soup.find_all(\"span\", class_=\"hAGFy _6KjNy jOraY _1U9AF _1MHTr aSJ_Z FbZAB _3I5b8\")\n",
    "    for i in data:\n",
    "        cars_url = \"https://russia.superjob.ru\" + i.find(\"a\").get(\"href\")\n",
    "        yield cars_url\n",
    "\n",
    "def array_conv():\n",
    "    skills_list = []\n",
    "    name_list = []\n",
    "    for j in get_url():\n",
    "        response = requests.get(j, headers=headers)\n",
    "        sleep(3)\n",
    "        soup = BeautifulSoup(response.text, \"lxml\")\n",
    "        name = soup.find(\"span\", class_ = \"_1MHTr aSJ_Z FbZAB _1quxI\").text\n",
    "        skills = soup.find_all(\"ul\")\n",
    "        if len(skills) > 1:\n",
    "            skills_text = skills[1].text\n",
    "            skills_list.append(skills_text)\n",
    "        name_list.append(name)\n",
    "    data = {\n",
    "        \"Название компании\": name_list,\n",
    "        \"Навыки\": skills_list\n",
    "    }\n",
    "    df = pd.DataFrame(data)\n",
    "    df.to_excel(\"test.xlsx\", index=False)\n",
    "    print(\"Данные успешно сохранены в файл 'test.xlsx'\")\n",
    "\n",
    "if __name__ == \"__main__\":\n",
    "    array_conv()\n"
   ]
  },
  {
   "cell_type": "code",
   "execution_count": null,
   "metadata": {},
   "outputs": [],
   "source": [
    "from bs4 import BeautifulSoup\n",
    "import requests\n",
    "import pandas as pd\n",
    "from time import sleep\n",
    "\n",
    "headers = {\n",
    "    \"User-Agent\": \"Mozilla/5.0 (Windows NT 10.0; Win64; x64) AppleWebKit/537.36 (KHTML, like Gecko) Chrome/122.0.0.0 Safari/537.36 Edg/122.0.0.0\"\n",
    "}\n",
    "\n",
    "def get_url():\n",
    "    url = \"https://russia.superjob.ru/vakansii/analitik-bi.html?utm_source=yandex_sj&utm_medium=cpc&utm_campaign=SJ_candidate_do_RF|type3&utm_content=1233052|%D0%92%D0%B0%D0%BA%D0%B0%D0%BD%D1%81%D0%B8%D0%B8|4|%D0%A1%D1%82%D1%83%D0%BF%D0%B8%D0%BD%D0%BE&utm_term=none&yclid=5541557058299494399\"\n",
    "    response = requests.get(url, headers=headers)\n",
    "    soup = BeautifulSoup(response.text, \"lxml\")\n",
    "    data = soup.find_all(\"span\", class_=\"hAGFy _6KjNy jOraY _1U9AF _1MHTr aSJ_Z FbZAB _3I5b8\")\n",
    "    for i in data:\n",
    "        cars_url = \"https://russia.superjob.ru\" + i.find(\"a\").get(\"href\")\n",
    "        yield cars_url\n",
    "\n",
    "def array_conv():\n",
    "    skills_list = []\n",
    "    name_list = []\n",
    "    for j in get_url():\n",
    "        response = requests.get(j, headers=headers)\n",
    "        sleep(3)\n",
    "        soup = BeautifulSoup(response.text, \"lxml\")\n",
    "        name = soup.find(\"span\", class_ = \"_1MHTr aSJ_Z FbZAB _1quxI\").text\n",
    "\n",
    "        location = \n",
    "        skills_list.append(location)\n",
    "        name_list.append(name)\n",
    "    data = {\n",
    "        \"Название компании\": name_list,\n",
    "        \"Навыки\": skills_list\n",
    "    }\n",
    "    df = pd.DataFrame(data)\n",
    "    df.to_excel(\"test.xlsx\", index=False)\n",
    "    print(\"Данные успешно сохранены в файл 'test.xlsx'\")\n",
    "\n",
    "if __name__ == \"__main__\":\n",
    "    array_conv()\n"
   ]
  },
  {
   "cell_type": "markdown",
   "metadata": {},
   "source": [
    "# Парсинг сайта rabota.ru"
   ]
  },
  {
   "cell_type": "code",
   "execution_count": 13,
   "metadata": {},
   "outputs": [
    {
     "name": "stdout",
     "output_type": "stream",
     "text": [
      "Данные успешно сохранены в файл 'test.xlsx'\n"
     ]
    }
   ],
   "source": [
    "from bs4 import BeautifulSoup\n",
    "import requests\n",
    "from time import sleep\n",
    "\n",
    "\n",
    "headers = {\"User-Agent\": \n",
    "           \"Mozilla/5.0 (Windows NT 10.0; Win64; x64) AppleWebKit/537.36 (KHTML, like Gecko) Chrome/122.0.0.0 Safari/537.36 Edg/122.0.0.0\"}\n",
    "\n",
    "def get_url():\n",
    "  \n",
    "    url = f\"https://www.rabota.ru/vacancy/?query=BI%20%D0%B0%D0%BD%D0%B0%D0%BB%D0%B8%D1%82%D0%B8%D0%BA\"\n",
    "\n",
    "    response = requests.get(url, headers = headers)\n",
    "        # lxml парсинг тегов в html\n",
    "    soup = BeautifulSoup(response.text, \"lxml\")\n",
    "    data = soup.find_all(\"div\", class_ = \"vacancy-preview-card__salary\")\n",
    "    for i in data:\n",
    "        \n",
    "        cars_url = \"https://www.rabota.ru\" + i.find(\"a\").get(\"href\")\n",
    "       \n",
    "        # Вход на страницу\n",
    "        # Обьект генератор для оптимизации использования памяти\n",
    "        yield cars_url\n",
    "def array_conv():\n",
    "    name_list = []\n",
    "    skills_list = []\n",
    "    skills_two_list = []\n",
    "    for j in get_url():\n",
    "        response = requests.get(j, headers = headers)\n",
    "        sleep(3)\n",
    "        # lxml парсинг тегов в html\n",
    "        soup = BeautifulSoup(response.text, \"lxml\")\n",
    "\n",
    "        skills = soup.find_all(\"ul\")\n",
    "        if len(skills) > 1:\n",
    "            skills = skills[2].text\n",
    "        skills_two = soup.find_all(\"ul\")\n",
    "        if len(skills_two) > 1:\n",
    "            skills_two = skills_two[1].text\n",
    "        span = soup.find(\"div\", class_ = \"vacancy-company-stats__name\")\n",
    "       \n",
    "        name = span.find(\"a\").text\n",
    "        name_list.append(name)\n",
    "        skills_list.append(skills)\n",
    "        skills_two_list.append(skills_two)\n",
    "    data = {\n",
    "    'Name': name_list,\n",
    "    'Skills': skills_list,\n",
    "    'Skills Two': skills_two_list\n",
    "    }\n",
    "\n",
    "    df = pd.DataFrame(data)\n",
    "\n",
    "# Сохранение DataFrame в файл Excel\n",
    "    df.to_excel('test_two.xlsx', index=False)\n",
    "\n",
    "  \n",
    "   \n",
    " \n",
    "\n",
    "    print(\"Данные успешно сохранены в файл 'test.xlsx'\")\n",
    "\n",
    "\n",
    "if __name__ == \"__main__\":\n",
    "    array_conv()"
   ]
  }
 ],
 "metadata": {
  "kernelspec": {
   "display_name": "Python 3",
   "language": "python",
   "name": "python3"
  },
  "language_info": {
   "codemirror_mode": {
    "name": "ipython",
    "version": 3
   },
   "file_extension": ".py",
   "mimetype": "text/x-python",
   "name": "python",
   "nbconvert_exporter": "python",
   "pygments_lexer": "ipython3",
   "version": "3.12.0"
  }
 },
 "nbformat": 4,
 "nbformat_minor": 2
}
